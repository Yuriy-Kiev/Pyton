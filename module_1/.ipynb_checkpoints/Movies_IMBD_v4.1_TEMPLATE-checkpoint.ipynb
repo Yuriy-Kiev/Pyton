{
 "cells": [
  {
   "cell_type": "code",
   "execution_count": 67,
   "metadata": {
    "_cell_guid": "b1076dfc-b9ad-4769-8c92-a6c4dae69d19",
    "_uuid": "8f2839f25d086af736a60e9eeb907d3b93b6e0e5",
    "colab": {},
    "colab_type": "code",
    "id": "U2D2gTdJVp90"
   },
   "outputs": [],
   "source": [
    "import numpy as np\n",
    "import pandas as pd\n",
    "import seaborn as sns\n",
    "import matplotlib.pyplot as plt\n",
    "from collections import Counter\n",
    "from itertools import combinations"
   ]
  },
  {
   "cell_type": "code",
   "execution_count": 68,
   "metadata": {
    "_cell_guid": "79c7e3d0-c299-4dcb-8224-4455121ee9b0",
    "_uuid": "d629ff2d2480ee46fbb7e2d37f6b5fab8052498a",
    "colab": {},
    "colab_type": "code",
    "id": "oyGfxL3eVp9-"
   },
   "outputs": [
    {
     "data": {
      "text/html": [
       "<div>\n",
       "<style scoped>\n",
       "    .dataframe tbody tr th:only-of-type {\n",
       "        vertical-align: middle;\n",
       "    }\n",
       "\n",
       "    .dataframe tbody tr th {\n",
       "        vertical-align: top;\n",
       "    }\n",
       "\n",
       "    .dataframe thead th {\n",
       "        text-align: right;\n",
       "    }\n",
       "</style>\n",
       "<table border=\"1\" class=\"dataframe\">\n",
       "  <thead>\n",
       "    <tr style=\"text-align: right;\">\n",
       "      <th></th>\n",
       "      <th>imdb_id</th>\n",
       "      <th>budget</th>\n",
       "      <th>revenue</th>\n",
       "      <th>original_title</th>\n",
       "      <th>cast</th>\n",
       "      <th>director</th>\n",
       "      <th>tagline</th>\n",
       "      <th>overview</th>\n",
       "      <th>runtime</th>\n",
       "      <th>genres</th>\n",
       "      <th>production_companies</th>\n",
       "      <th>release_date</th>\n",
       "      <th>vote_average</th>\n",
       "      <th>release_year</th>\n",
       "    </tr>\n",
       "  </thead>\n",
       "  <tbody>\n",
       "    <tr>\n",
       "      <th>450</th>\n",
       "      <td>tt1172991</td>\n",
       "      <td>15000000</td>\n",
       "      <td>4882577</td>\n",
       "      <td>The Company Men</td>\n",
       "      <td>Ben Affleck|Tommy Lee Jones|Chris Cooper|Kevin...</td>\n",
       "      <td>John Wells</td>\n",
       "      <td>In America, we give our lives to our jobs. It'...</td>\n",
       "      <td>Bobby Walker is living the proverbial American...</td>\n",
       "      <td>104</td>\n",
       "      <td>Drama</td>\n",
       "      <td>Spring Creek Productions|Battle Mountain Films</td>\n",
       "      <td>10/21/2010</td>\n",
       "      <td>6.4</td>\n",
       "      <td>2010</td>\n",
       "    </tr>\n",
       "    <tr>\n",
       "      <th>216</th>\n",
       "      <td>tt1837709</td>\n",
       "      <td>60000000</td>\n",
       "      <td>30800231</td>\n",
       "      <td>Winter's Tale</td>\n",
       "      <td>Colin Farrell|Jessica Brown Findlay|Russell Cr...</td>\n",
       "      <td>Akiva Goldsman</td>\n",
       "      <td>This is not a true story. This is true love.</td>\n",
       "      <td>A burglar falls for an heiress as she dies in ...</td>\n",
       "      <td>118</td>\n",
       "      <td>Drama|Fantasy|Mystery|Romance</td>\n",
       "      <td>Village Roadshow Pictures|Weed Road Pictures|W...</td>\n",
       "      <td>2/13/2014</td>\n",
       "      <td>5.9</td>\n",
       "      <td>2014</td>\n",
       "    </tr>\n",
       "    <tr>\n",
       "      <th>1370</th>\n",
       "      <td>tt0377818</td>\n",
       "      <td>50000000</td>\n",
       "      <td>110803676</td>\n",
       "      <td>The Dukes of Hazzard</td>\n",
       "      <td>Johnny Knoxville|Seann William Scott|Jessica S...</td>\n",
       "      <td>Jay Chandrasekhar</td>\n",
       "      <td>Cousins. Outlaws. Thrillbillies.</td>\n",
       "      <td>Bo and Luke Duke are southern cousins. In Hazz...</td>\n",
       "      <td>104</td>\n",
       "      <td>Action|Adventure|Comedy</td>\n",
       "      <td>Village Roadshow Pictures|Gerber Pictures|Warn...</td>\n",
       "      <td>8/5/2005</td>\n",
       "      <td>5.2</td>\n",
       "      <td>2005</td>\n",
       "    </tr>\n",
       "    <tr>\n",
       "      <th>325</th>\n",
       "      <td>tt1045778</td>\n",
       "      <td>60000000</td>\n",
       "      <td>62357900</td>\n",
       "      <td>Year One</td>\n",
       "      <td>Jack Black|Michael Cera|Olivia Wilde|Oliver Pl...</td>\n",
       "      <td>Harold Ramis</td>\n",
       "      <td>Meet your ancestors</td>\n",
       "      <td>When a couple of lazy hunter-gatherers are ban...</td>\n",
       "      <td>97</td>\n",
       "      <td>Comedy|Adventure</td>\n",
       "      <td>Columbia Pictures|Ocean Pictures|Apatow Produc...</td>\n",
       "      <td>6/18/2009</td>\n",
       "      <td>4.5</td>\n",
       "      <td>2009</td>\n",
       "    </tr>\n",
       "    <tr>\n",
       "      <th>638</th>\n",
       "      <td>tt0822832</td>\n",
       "      <td>60000000</td>\n",
       "      <td>244082376</td>\n",
       "      <td>Marley &amp; Me</td>\n",
       "      <td>Owen Wilson|Jennifer Aniston|Eric Dane|Kathlee...</td>\n",
       "      <td>David Frankel</td>\n",
       "      <td>Heel the love</td>\n",
       "      <td>A newly married couple who, in the process of ...</td>\n",
       "      <td>115</td>\n",
       "      <td>Comedy|Family</td>\n",
       "      <td>Sunswept Entertainment|Dune Entertainment III</td>\n",
       "      <td>12/25/2008</td>\n",
       "      <td>6.8</td>\n",
       "      <td>2008</td>\n",
       "    </tr>\n",
       "  </tbody>\n",
       "</table>\n",
       "</div>"
      ],
      "text/plain": [
       "        imdb_id    budget    revenue        original_title  \\\n",
       "450   tt1172991  15000000    4882577       The Company Men   \n",
       "216   tt1837709  60000000   30800231         Winter's Tale   \n",
       "1370  tt0377818  50000000  110803676  The Dukes of Hazzard   \n",
       "325   tt1045778  60000000   62357900              Year One   \n",
       "638   tt0822832  60000000  244082376           Marley & Me   \n",
       "\n",
       "                                                   cast           director  \\\n",
       "450   Ben Affleck|Tommy Lee Jones|Chris Cooper|Kevin...         John Wells   \n",
       "216   Colin Farrell|Jessica Brown Findlay|Russell Cr...     Akiva Goldsman   \n",
       "1370  Johnny Knoxville|Seann William Scott|Jessica S...  Jay Chandrasekhar   \n",
       "325   Jack Black|Michael Cera|Olivia Wilde|Oliver Pl...       Harold Ramis   \n",
       "638   Owen Wilson|Jennifer Aniston|Eric Dane|Kathlee...      David Frankel   \n",
       "\n",
       "                                                tagline  \\\n",
       "450   In America, we give our lives to our jobs. It'...   \n",
       "216        This is not a true story. This is true love.   \n",
       "1370                   Cousins. Outlaws. Thrillbillies.   \n",
       "325                                 Meet your ancestors   \n",
       "638                                       Heel the love   \n",
       "\n",
       "                                               overview  runtime  \\\n",
       "450   Bobby Walker is living the proverbial American...      104   \n",
       "216   A burglar falls for an heiress as she dies in ...      118   \n",
       "1370  Bo and Luke Duke are southern cousins. In Hazz...      104   \n",
       "325   When a couple of lazy hunter-gatherers are ban...       97   \n",
       "638   A newly married couple who, in the process of ...      115   \n",
       "\n",
       "                             genres  \\\n",
       "450                           Drama   \n",
       "216   Drama|Fantasy|Mystery|Romance   \n",
       "1370        Action|Adventure|Comedy   \n",
       "325                Comedy|Adventure   \n",
       "638                   Comedy|Family   \n",
       "\n",
       "                                   production_companies release_date  \\\n",
       "450      Spring Creek Productions|Battle Mountain Films   10/21/2010   \n",
       "216   Village Roadshow Pictures|Weed Road Pictures|W...    2/13/2014   \n",
       "1370  Village Roadshow Pictures|Gerber Pictures|Warn...     8/5/2005   \n",
       "325   Columbia Pictures|Ocean Pictures|Apatow Produc...    6/18/2009   \n",
       "638       Sunswept Entertainment|Dune Entertainment III   12/25/2008   \n",
       "\n",
       "      vote_average  release_year  \n",
       "450            6.4          2010  \n",
       "216            5.9          2014  \n",
       "1370           5.2          2005  \n",
       "325            4.5          2009  \n",
       "638            6.8          2008  "
      ]
     },
     "execution_count": 68,
     "metadata": {},
     "output_type": "execute_result"
    }
   ],
   "source": [
    "data = pd.read_csv('movie_bd_v5.csv')\n",
    "data.sample(5)"
   ]
  },
  {
   "cell_type": "code",
   "execution_count": 69,
   "metadata": {
    "colab": {},
    "colab_type": "code",
    "id": "CoYUnagMVp-C"
   },
   "outputs": [
    {
     "data": {
      "text/html": [
       "<div>\n",
       "<style scoped>\n",
       "    .dataframe tbody tr th:only-of-type {\n",
       "        vertical-align: middle;\n",
       "    }\n",
       "\n",
       "    .dataframe tbody tr th {\n",
       "        vertical-align: top;\n",
       "    }\n",
       "\n",
       "    .dataframe thead th {\n",
       "        text-align: right;\n",
       "    }\n",
       "</style>\n",
       "<table border=\"1\" class=\"dataframe\">\n",
       "  <thead>\n",
       "    <tr style=\"text-align: right;\">\n",
       "      <th></th>\n",
       "      <th>budget</th>\n",
       "      <th>revenue</th>\n",
       "      <th>runtime</th>\n",
       "      <th>vote_average</th>\n",
       "      <th>release_year</th>\n",
       "    </tr>\n",
       "  </thead>\n",
       "  <tbody>\n",
       "    <tr>\n",
       "      <th>count</th>\n",
       "      <td>1.889000e+03</td>\n",
       "      <td>1.889000e+03</td>\n",
       "      <td>1889.000000</td>\n",
       "      <td>1889.000000</td>\n",
       "      <td>1889.000000</td>\n",
       "    </tr>\n",
       "    <tr>\n",
       "      <th>mean</th>\n",
       "      <td>5.431083e+07</td>\n",
       "      <td>1.553653e+08</td>\n",
       "      <td>109.658549</td>\n",
       "      <td>6.140762</td>\n",
       "      <td>2007.860773</td>\n",
       "    </tr>\n",
       "    <tr>\n",
       "      <th>std</th>\n",
       "      <td>4.858721e+07</td>\n",
       "      <td>2.146698e+08</td>\n",
       "      <td>18.017041</td>\n",
       "      <td>0.764763</td>\n",
       "      <td>4.468841</td>\n",
       "    </tr>\n",
       "    <tr>\n",
       "      <th>min</th>\n",
       "      <td>5.000000e+06</td>\n",
       "      <td>2.033165e+06</td>\n",
       "      <td>63.000000</td>\n",
       "      <td>3.300000</td>\n",
       "      <td>2000.000000</td>\n",
       "    </tr>\n",
       "    <tr>\n",
       "      <th>25%</th>\n",
       "      <td>2.000000e+07</td>\n",
       "      <td>3.456058e+07</td>\n",
       "      <td>97.000000</td>\n",
       "      <td>5.600000</td>\n",
       "      <td>2004.000000</td>\n",
       "    </tr>\n",
       "    <tr>\n",
       "      <th>50%</th>\n",
       "      <td>3.800000e+07</td>\n",
       "      <td>8.361541e+07</td>\n",
       "      <td>107.000000</td>\n",
       "      <td>6.100000</td>\n",
       "      <td>2008.000000</td>\n",
       "    </tr>\n",
       "    <tr>\n",
       "      <th>75%</th>\n",
       "      <td>7.200000e+07</td>\n",
       "      <td>1.782626e+08</td>\n",
       "      <td>120.000000</td>\n",
       "      <td>6.600000</td>\n",
       "      <td>2012.000000</td>\n",
       "    </tr>\n",
       "    <tr>\n",
       "      <th>max</th>\n",
       "      <td>3.800000e+08</td>\n",
       "      <td>2.781506e+09</td>\n",
       "      <td>214.000000</td>\n",
       "      <td>8.100000</td>\n",
       "      <td>2015.000000</td>\n",
       "    </tr>\n",
       "  </tbody>\n",
       "</table>\n",
       "</div>"
      ],
      "text/plain": [
       "             budget       revenue      runtime  vote_average  release_year\n",
       "count  1.889000e+03  1.889000e+03  1889.000000   1889.000000   1889.000000\n",
       "mean   5.431083e+07  1.553653e+08   109.658549      6.140762   2007.860773\n",
       "std    4.858721e+07  2.146698e+08    18.017041      0.764763      4.468841\n",
       "min    5.000000e+06  2.033165e+06    63.000000      3.300000   2000.000000\n",
       "25%    2.000000e+07  3.456058e+07    97.000000      5.600000   2004.000000\n",
       "50%    3.800000e+07  8.361541e+07   107.000000      6.100000   2008.000000\n",
       "75%    7.200000e+07  1.782626e+08   120.000000      6.600000   2012.000000\n",
       "max    3.800000e+08  2.781506e+09   214.000000      8.100000   2015.000000"
      ]
     },
     "execution_count": 69,
     "metadata": {},
     "output_type": "execute_result"
    }
   ],
   "source": [
    "data.describe()"
   ]
  },
  {
   "cell_type": "markdown",
   "metadata": {
    "colab_type": "text",
    "id": "DTIt7ezGVp-G"
   },
   "source": [
    "# Предобработка"
   ]
  },
  {
   "cell_type": "code",
   "execution_count": 70,
   "metadata": {
    "colab": {},
    "colab_type": "code",
    "id": "jNb40DwKVp-H"
   },
   "outputs": [],
   "source": [
    "answers = {} # создадим словарь для ответов\n",
    "\n",
    "# тут другие ваши предобработки колонок например:\n",
    "\n",
    "# добавление колонки profit\n",
    "data['profit'] = data.revenue - data.budget\n",
    "\n",
    "# добавление колонки genres_split для разделения жанров\n",
    "data['genres_split'] = data.genres.str.split('|')\n",
    "\n",
    "# добавление колонки cast_split для разделения актеров\n",
    "data['cast_split'] = data.cast.str.split('|')\n",
    "\n",
    "# добавление колонки production_companies_split для разделения актеров\n",
    "data['production_companies_split'] = data.production_companies.str.split('|')\n",
    "\n",
    "# добавление колонки c номерами месяцев\n",
    "data['release_month'] = pd.to_datetime(data['release_date']).dt.month\n",
    "\n",
    "# добавление колонки c длинной названия по количеству символов\n",
    "data['title_len'] = data.original_title.str.len()\n",
    "\n",
    "# добавление колонки c длинной описания по количеству слов\n",
    "data['overview_len'] = data.overview.str.split().str.len()\n",
    "\n",
    "# добавление колонки c комбинациями пар актеров，актеров из исходного списка предварительно сортируем по алфавиту, \n",
    "#чтобы одни и те же пары всегда были в одном варианте, т.к. ('a','b') не равно ('b','a')\n",
    "data['cast_comb2'] = data.cast_split.apply(lambda x: list(combinations(sorted(x), 2)))\n",
    "\n",
    "\n",
    "\n",
    "#the time given in the dataset is in string format.\n",
    "#So we need to change this in datetime format"
   ]
  },
  {
   "cell_type": "markdown",
   "metadata": {
    "colab_type": "text",
    "id": "YxZaH-nPVp-L"
   },
   "source": [
    "# 1. У какого фильма из списка самый большой бюджет?"
   ]
  },
  {
   "cell_type": "markdown",
   "metadata": {
    "colab_type": "text",
    "id": "Nd-G5gX6Vp-M"
   },
   "source": [
    "Использовать варианты ответов в коде решения запрещено.    \n",
    "Вы думаете и в жизни у вас будут варианты ответов?)"
   ]
  },
  {
   "cell_type": "code",
   "execution_count": 71,
   "metadata": {
    "colab": {},
    "colab_type": "code",
    "id": "uVnXAY5RVp-O"
   },
   "outputs": [],
   "source": [
    "# в словарь вставляем номер вопроса и ваш ответ на него\n",
    "# Пример: \n",
    "answers['1'] = '2. Spider-Man 3 (tt0413300)'\n",
    "\n",
    "# запишите свой вариант ответа\n",
    "answers['1'] = '5. Pirates of the Caribbean: On Stranger Tides (tt1298650)'\n",
    "# \"+\"\n",
    "\n",
    "# если ответили верно, можете добавить комментарий со значком \"+\""
   ]
  },
  {
   "cell_type": "code",
   "execution_count": 72,
   "metadata": {
    "colab": {},
    "colab_type": "code",
    "id": "dZwb3m28Vp-S"
   },
   "outputs": [
    {
     "data": {
      "text/plain": [
       "723    Pirates of the Caribbean: On Stranger Tides\n",
       "Name: original_title, dtype: object"
      ]
     },
     "execution_count": 72,
     "metadata": {},
     "output_type": "execute_result"
    }
   ],
   "source": [
    "# тут пишем ваш код для решения данного вопроса:\n",
    "data[data.budget == data.budget.max()].original_title"
   ]
  },
  {
   "cell_type": "markdown",
   "metadata": {
    "colab_type": "text",
    "id": "K7L3nbRXVp-X"
   },
   "source": [
    "ВАРИАНТ 2"
   ]
  },
  {
   "cell_type": "code",
   "execution_count": 73,
   "metadata": {
    "colab": {},
    "colab_type": "code",
    "id": "OGaoQI7rVp-X"
   },
   "outputs": [
    {
     "data": {
      "text/plain": [
       "723    Pirates of the Caribbean: On Stranger Tides\n",
       "Name: original_title, dtype: object"
      ]
     },
     "execution_count": 73,
     "metadata": {},
     "output_type": "execute_result"
    }
   ],
   "source": [
    "# можно добавлять разные варианты решения\n",
    "data.sort_values(by=['budget'], ascending=False).original_title.head(1)"
   ]
  },
  {
   "cell_type": "markdown",
   "metadata": {
    "colab_type": "text",
    "id": "FNRbbI3vVp-c"
   },
   "source": [
    "# 2. Какой из фильмов самый длительный (в минутах)?"
   ]
  },
  {
   "cell_type": "code",
   "execution_count": 74,
   "metadata": {
    "colab": {},
    "colab_type": "code",
    "id": "vHAoEXNTVp-d"
   },
   "outputs": [],
   "source": [
    "# думаю логику работы с этим словарем вы уже поняли, \n",
    "# по этому не буду больше его дублировать\n",
    "answers['2'] = '2. Gods and Generals (tt0279111)'\n",
    "# \"+\""
   ]
  },
  {
   "cell_type": "code",
   "execution_count": 75,
   "metadata": {
    "colab": {},
    "colab_type": "code",
    "id": "ot-VX2XrVp-g"
   },
   "outputs": [
    {
     "data": {
      "text/plain": [
       "1157    Gods and Generals\n",
       "Name: original_title, dtype: object"
      ]
     },
     "execution_count": 75,
     "metadata": {},
     "output_type": "execute_result"
    }
   ],
   "source": [
    "data[data.runtime == data.runtime.max()].original_title"
   ]
  },
  {
   "cell_type": "markdown",
   "metadata": {
    "colab_type": "text",
    "id": "bapLlpW8Vp-k"
   },
   "source": [
    "# 3. Какой из фильмов самый короткий (в минутах)?\n",
    "\n",
    "\n",
    "\n"
   ]
  },
  {
   "cell_type": "code",
   "execution_count": 76,
   "metadata": {
    "colab": {},
    "colab_type": "code",
    "id": "YBxaSHuAVp-l"
   },
   "outputs": [],
   "source": [
    "answers['3'] = '3. Winnie the Pooh (tt1449283)'\n",
    "# \"+\""
   ]
  },
  {
   "cell_type": "code",
   "execution_count": 77,
   "metadata": {},
   "outputs": [
    {
     "data": {
      "text/plain": [
       "768    Winnie the Pooh\n",
       "Name: original_title, dtype: object"
      ]
     },
     "execution_count": 77,
     "metadata": {},
     "output_type": "execute_result"
    }
   ],
   "source": [
    "data[data.runtime == data.runtime.min()].original_title"
   ]
  },
  {
   "cell_type": "markdown",
   "metadata": {
    "colab_type": "text",
    "id": "TfQbxbfNVp-p"
   },
   "source": [
    "# 4. Какова средняя длительность фильмов?\n"
   ]
  },
  {
   "cell_type": "code",
   "execution_count": 78,
   "metadata": {
    "colab": {},
    "colab_type": "code",
    "id": "5K6dKZYVVp-q"
   },
   "outputs": [],
   "source": [
    "answers['4'] = '2. 110'\n",
    "# \"+\""
   ]
  },
  {
   "cell_type": "code",
   "execution_count": 79,
   "metadata": {},
   "outputs": [
    {
     "data": {
      "text/plain": [
       "110"
      ]
     },
     "execution_count": 79,
     "metadata": {},
     "output_type": "execute_result"
    }
   ],
   "source": [
    "round(data.runtime.mean())"
   ]
  },
  {
   "cell_type": "markdown",
   "metadata": {
    "colab_type": "text",
    "id": "r5TvbnT_Vp-u"
   },
   "source": [
    "# 5. Каково медианное значение длительности фильмов? "
   ]
  },
  {
   "cell_type": "code",
   "execution_count": 80,
   "metadata": {
    "colab": {},
    "colab_type": "code",
    "id": "iBROplKnVp-v"
   },
   "outputs": [],
   "source": [
    "answers['5'] = '1. 107'\n",
    "# \"+\""
   ]
  },
  {
   "cell_type": "code",
   "execution_count": 81,
   "metadata": {},
   "outputs": [
    {
     "data": {
      "text/plain": [
       "107"
      ]
     },
     "execution_count": 81,
     "metadata": {},
     "output_type": "execute_result"
    }
   ],
   "source": [
    "round(data.runtime.median())"
   ]
  },
  {
   "cell_type": "markdown",
   "metadata": {
    "colab_type": "text",
    "id": "39P-deDSVp-y"
   },
   "source": [
    "# 6. Какой самый прибыльный фильм?\n",
    "#### Внимание! Здесь и далее под «прибылью» или «убытками» понимается разность между сборами и бюджетом фильма. (прибыль = сборы - бюджет) в нашем датасете это будет (profit = revenue - budget) "
   ]
  },
  {
   "cell_type": "code",
   "execution_count": 82,
   "metadata": {
    "colab": {},
    "colab_type": "code",
    "id": "UYZh4T9WVp-y"
   },
   "outputs": [
    {
     "data": {
      "text/plain": [
       "239    Avatar\n",
       "Name: original_title, dtype: object"
      ]
     },
     "execution_count": 82,
     "metadata": {},
     "output_type": "execute_result"
    }
   ],
   "source": [
    "# лучше код получения столбца profit вынести в Предобработку что в начале\n",
    "data[data.profit == data.profit.max()].original_title"
   ]
  },
  {
   "cell_type": "code",
   "execution_count": 83,
   "metadata": {},
   "outputs": [],
   "source": [
    "answers['6'] = '5. Avatar (tt0499549)'\n",
    "# \"+\""
   ]
  },
  {
   "cell_type": "markdown",
   "metadata": {
    "colab_type": "text",
    "id": "M99JmIX4Vp-2"
   },
   "source": [
    "# 7. Какой фильм самый убыточный? "
   ]
  },
  {
   "cell_type": "code",
   "execution_count": 84,
   "metadata": {
    "colab": {},
    "colab_type": "code",
    "id": "w-D2m4XPVp-3"
   },
   "outputs": [
    {
     "data": {
      "text/plain": [
       "1245    The Lone Ranger\n",
       "Name: original_title, dtype: object"
      ]
     },
     "execution_count": 84,
     "metadata": {},
     "output_type": "execute_result"
    }
   ],
   "source": [
    "data[data.profit == data.profit.min()].original_title"
   ]
  },
  {
   "cell_type": "code",
   "execution_count": 85,
   "metadata": {},
   "outputs": [],
   "source": [
    "answers['7'] = '5. The Lone Ranger (tt1210819)'\n",
    "# \"+\""
   ]
  },
  {
   "cell_type": "markdown",
   "metadata": {
    "colab_type": "text",
    "id": "wEOM5ERVVp-6"
   },
   "source": [
    "# 8. У скольких фильмов из датасета объем сборов оказался выше бюджета?"
   ]
  },
  {
   "cell_type": "code",
   "execution_count": 86,
   "metadata": {
    "colab": {},
    "colab_type": "code",
    "id": "y00_7HD6Vp-7"
   },
   "outputs": [
    {
     "data": {
      "text/plain": [
       "1478"
      ]
     },
     "execution_count": 86,
     "metadata": {},
     "output_type": "execute_result"
    }
   ],
   "source": [
    "data[data.budget < data.revenue].budget.count()"
   ]
  },
  {
   "cell_type": "code",
   "execution_count": 87,
   "metadata": {},
   "outputs": [],
   "source": [
    "answers['8'] = '1. 1478'\n",
    "# \"+\""
   ]
  },
  {
   "cell_type": "markdown",
   "metadata": {
    "colab_type": "text",
    "id": "xhpspA9KVp_A"
   },
   "source": [
    "# 9. Какой фильм оказался самым кассовым в 2008 году?"
   ]
  },
  {
   "cell_type": "code",
   "execution_count": 88,
   "metadata": {
    "colab": {},
    "colab_type": "code",
    "id": "MoUyQr9RVp_B"
   },
   "outputs": [
    {
     "data": {
      "text/plain": [
       "599    The Dark Knight\n",
       "Name: original_title, dtype: object"
      ]
     },
     "execution_count": 88,
     "metadata": {},
     "output_type": "execute_result"
    }
   ],
   "source": [
    "data[(data.release_year == 2008) & (data.revenue == data[data.release_year == 2008].revenue.max())].original_title"
   ]
  },
  {
   "cell_type": "code",
   "execution_count": 89,
   "metadata": {},
   "outputs": [],
   "source": [
    "answers['9'] = '4. The Dark Knight (tt0468569)'\n",
    "# \"+\""
   ]
  },
  {
   "cell_type": "markdown",
   "metadata": {
    "colab_type": "text",
    "id": "Zi4hDKidVp_F"
   },
   "source": [
    "# 10. Самый убыточный фильм за период с 2012 по 2014 г. (включительно)?\n"
   ]
  },
  {
   "cell_type": "code",
   "execution_count": 90,
   "metadata": {
    "colab": {},
    "colab_type": "code",
    "id": "XqyRmufJVp_F"
   },
   "outputs": [
    {
     "data": {
      "text/plain": [
       "1245    The Lone Ranger\n",
       "Name: original_title, dtype: object"
      ]
     },
     "execution_count": 90,
     "metadata": {},
     "output_type": "execute_result"
    }
   ],
   "source": [
    "data_2012_2014 = data[(data.release_year >= 2012) & (data.release_year <= 2014)]\n",
    "data_2012_2014[data_2012_2014.profit == data_2012_2014.profit.min()].original_title"
   ]
  },
  {
   "cell_type": "code",
   "execution_count": 91,
   "metadata": {},
   "outputs": [],
   "source": [
    "answers['10'] = '5. The Lone Ranger (tt1210819)'\n",
    "# \"+\""
   ]
  },
  {
   "cell_type": "markdown",
   "metadata": {
    "colab_type": "text",
    "id": "EA7Sa9dkVp_I"
   },
   "source": [
    "# 11. Какого жанра фильмов больше всего?"
   ]
  },
  {
   "cell_type": "code",
   "execution_count": 92,
   "metadata": {
    "colab": {},
    "colab_type": "code",
    "id": "zsJAwJ8QVp_J"
   },
   "outputs": [
    {
     "data": {
      "text/plain": [
       "'Drama'"
      ]
     },
     "execution_count": 92,
     "metadata": {},
     "output_type": "execute_result"
    }
   ],
   "source": [
    "# эту задачу тоже можно решать разными подходами, попробуй реализовать разные варианты\n",
    "# если будешь добавлять функцию - выноси ее в предобработку что в начале\n",
    "\n",
    "# создаем список упоминания всех жанров genres_list\n",
    "genres_list = data.genres_split.sum()\n",
    "\n",
    "# на оснвоании списка создаем серию и считаем количество каждого уникального значения\n",
    "pd.Series(genres_list).value_counts().index[0]"
   ]
  },
  {
   "cell_type": "code",
   "execution_count": 93,
   "metadata": {},
   "outputs": [],
   "source": [
    "answers['11'] = '3. Drama'\n",
    "# \"+\""
   ]
  },
  {
   "cell_type": "markdown",
   "metadata": {
    "colab_type": "text",
    "id": "Ax6g2C8SVp_M"
   },
   "source": [
    "ВАРИАНТ 2"
   ]
  },
  {
   "cell_type": "code",
   "execution_count": 94,
   "metadata": {
    "colab": {},
    "colab_type": "code",
    "id": "otO3SbrSVp_N"
   },
   "outputs": [
    {
     "data": {
      "text/plain": [
       "'Drama'"
      ]
     },
     "execution_count": 94,
     "metadata": {},
     "output_type": "execute_result"
    }
   ],
   "source": [
    "# создадим список, чтобы на основе него создать счетчик.\n",
    "genres_list = []\n",
    "for x in data.genres_split:\n",
    "    genres_list +=x\n",
    "    \n",
    "# присваиваем переменной пару наиболее часто встречающийся элемента счетчика и количество раз, которое этот элемент встречается \n",
    "c = Counter(genres_list).most_common(1)\n",
    "\n",
    "# выводим наибобее встречающийся элемент\n",
    "c[0][0]"
   ]
  },
  {
   "cell_type": "code",
   "execution_count": 95,
   "metadata": {},
   "outputs": [],
   "source": [
    "answers['11'] = '3. Drama'\n",
    "# \"+\""
   ]
  },
  {
   "cell_type": "markdown",
   "metadata": {
    "colab_type": "text",
    "id": "T9_bPWpkVp_Q"
   },
   "source": [
    "# 12. Фильмы какого жанра чаще всего становятся прибыльными? "
   ]
  },
  {
   "cell_type": "code",
   "execution_count": 96,
   "metadata": {
    "colab": {},
    "colab_type": "code",
    "id": "Tmt8MaK1Vp_R"
   },
   "outputs": [
    {
     "data": {
      "text/plain": [
       "'Drama'"
      ]
     },
     "execution_count": 96,
     "metadata": {},
     "output_type": "execute_result"
    }
   ],
   "source": [
    "# создаем список упоминания всех жанров в фильмах, которые были прибыльными, genres_list_profit\n",
    "genres_list_profit = data[data.profit > 0].genres_split.sum()\n",
    "\n",
    "# на оснвоании списка создаем серию и считаем количество каждого уникального значения\n",
    "pd.Series(genres_list_profit).value_counts().index[0]"
   ]
  },
  {
   "cell_type": "code",
   "execution_count": 97,
   "metadata": {},
   "outputs": [],
   "source": [
    "answers['12'] = '1. Drama'\n",
    "# \"+\""
   ]
  },
  {
   "cell_type": "markdown",
   "metadata": {
    "colab_type": "text",
    "id": "0F23bgsDVp_U"
   },
   "source": [
    "# 13. У какого режиссера самые большие суммарные кассовые сборы?"
   ]
  },
  {
   "cell_type": "code",
   "execution_count": 98,
   "metadata": {
    "colab": {},
    "colab_type": "code",
    "id": "K6Z3J8ygVp_X"
   },
   "outputs": [
    {
     "data": {
      "text/plain": [
       "'Peter Jackson'"
      ]
     },
     "execution_count": 98,
     "metadata": {},
     "output_type": "execute_result"
    }
   ],
   "source": [
    "data.groupby('director').sum().revenue.sort_values(ascending=False).index[0]"
   ]
  },
  {
   "cell_type": "code",
   "execution_count": 99,
   "metadata": {},
   "outputs": [],
   "source": [
    "answers['13'] = '5. Peter Jackson'\n",
    "# \"+\""
   ]
  },
  {
   "cell_type": "markdown",
   "metadata": {
    "colab_type": "text",
    "id": "PsYC9FgRVp_a"
   },
   "source": [
    "# 14. Какой режисер снял больше всего фильмов в стиле Action?"
   ]
  },
  {
   "cell_type": "code",
   "execution_count": 100,
   "metadata": {
    "colab": {},
    "colab_type": "code",
    "id": "wd2M-wHeVp_b"
   },
   "outputs": [
    {
     "data": {
      "text/plain": [
       "'Robert Rodriguez'"
      ]
     },
     "execution_count": 100,
     "metadata": {},
     "output_type": "execute_result"
    }
   ],
   "source": [
    "#формируем список режисеров, которые входили в один из фильмов жанра 'Action'\n",
    "action_directors = data[data.genres.str.contains('Action')].director.str.split('|').sum()\n",
    "\n",
    "#создаем серию на основе предыдущего списка и применяем метод value_counts(), берем первый индекс\n",
    "pd.Series(action_directors).value_counts().index[0]"
   ]
  },
  {
   "cell_type": "code",
   "execution_count": 101,
   "metadata": {},
   "outputs": [],
   "source": [
    "answers['14'] = '3. Robert Rodriguez'\n",
    "# \"+\""
   ]
  },
  {
   "cell_type": "markdown",
   "metadata": {
    "colab_type": "text",
    "id": "PQ0KciD7Vp_f"
   },
   "source": [
    "# 15. Фильмы с каким актером принесли самые высокие кассовые сборы в 2012 году? "
   ]
  },
  {
   "cell_type": "code",
   "execution_count": 102,
   "metadata": {
    "colab": {},
    "colab_type": "code",
    "id": "aga62oeKVp_g"
   },
   "outputs": [
    {
     "data": {
      "text/plain": [
       "'Chris Hemsworth'"
      ]
     },
     "execution_count": 102,
     "metadata": {},
     "output_type": "execute_result"
    }
   ],
   "source": [
    "# создаем датафрейм, в котором используем фильмы 2012 г. и взрываем столбец cast_split\n",
    "data_cast_explode2012 = data[data.release_year == 2012].explode('cast_split')\n",
    "\n",
    "# группируем по актеру data_cast_explode2012 и суммируем значения, отбираем столбец с выручкой, сортируем по убыванию\n",
    "# и берем первый index\n",
    "data_cast_explode2012.groupby('cast_split').sum().revenue.sort_values(ascending=False).index[0]\n"
   ]
  },
  {
   "cell_type": "code",
   "execution_count": 103,
   "metadata": {},
   "outputs": [],
   "source": [
    "answers['15'] = '3. Chris Hemsworth'\n",
    "# \"+\""
   ]
  },
  {
   "cell_type": "markdown",
   "metadata": {
    "colab_type": "text",
    "id": "mWHyyL7QVp_j"
   },
   "source": [
    "# 16. Какой актер снялся в большем количестве высокобюджетных фильмов?"
   ]
  },
  {
   "cell_type": "code",
   "execution_count": 104,
   "metadata": {
    "colab": {},
    "colab_type": "code",
    "id": "qQtmHKTFVp_k"
   },
   "outputs": [
    {
     "data": {
      "text/plain": [
       "'Matt Damon'"
      ]
     },
     "execution_count": 104,
     "metadata": {},
     "output_type": "execute_result"
    }
   ],
   "source": [
    "# создаем датафрейм, в котором используем фильмы c бюджетом выше среднего и взрываем по актерам\n",
    "data_high_budget = data[data.budget >  data.budget.mean()].explode('cast_split')\n",
    "\n",
    "# группируем с применением меода count()\n",
    "data_high_budget.groupby('cast_split').count().revenue.sort_values(ascending=False).index[0]"
   ]
  },
  {
   "cell_type": "code",
   "execution_count": 105,
   "metadata": {},
   "outputs": [],
   "source": [
    "answers['16'] = '3. Matt Damon'\n",
    "# \"+\""
   ]
  },
  {
   "cell_type": "markdown",
   "metadata": {
    "colab_type": "text",
    "id": "NIh6AaW5Vp_n"
   },
   "source": [
    "# 17. В фильмах какого жанра больше всего снимался Nicolas Cage? "
   ]
  },
  {
   "cell_type": "code",
   "execution_count": 106,
   "metadata": {
    "colab": {},
    "colab_type": "code",
    "id": "H74SJDIBVp_n"
   },
   "outputs": [
    {
     "data": {
      "text/plain": [
       "'Action'"
      ]
     },
     "execution_count": 106,
     "metadata": {},
     "output_type": "execute_result"
    }
   ],
   "source": [
    "data_cast_genres_explode = data.explode('genres_split').explode('cast_split')\n",
    "data_cast_genres_explode[data_cast_genres_explode.cast_split == 'Nicolas Cage'].genres_split.value_counts().index[0]"
   ]
  },
  {
   "cell_type": "code",
   "execution_count": 107,
   "metadata": {},
   "outputs": [],
   "source": [
    "answers['17'] = '2. Action'\n",
    "# \"+\""
   ]
  },
  {
   "cell_type": "markdown",
   "metadata": {
    "colab_type": "text",
    "id": "RqOmPRfWVp_q"
   },
   "source": [
    "# 18. Самый убыточный фильм от Paramount Pictures"
   ]
  },
  {
   "cell_type": "code",
   "execution_count": 108,
   "metadata": {},
   "outputs": [
    {
     "data": {
      "text/plain": [
       "925    K-19: The Widowmaker\n",
       "Name: original_title, dtype: object"
      ]
     },
     "execution_count": 108,
     "metadata": {},
     "output_type": "execute_result"
    }
   ],
   "source": [
    "# фильтруем строки, которые содержат название компании Paramount Pictures и находим минимальное значение в столбце profit среди строк, которорые содержать название компании Paramount Pictures\n",
    "data[(data.production_companies.str.contains('Paramount Pictures')) & (data[data.production_companies.str.contains('Paramount Pictures')].profit == data[data.production_companies.str.contains('Paramount Pictures')].profit.min())].original_title"
   ]
  },
  {
   "cell_type": "code",
   "execution_count": 109,
   "metadata": {
    "colab": {},
    "colab_type": "code",
    "id": "9E_B0Y96Vp_r"
   },
   "outputs": [],
   "source": [
    "answers['18'] = '1. K-19: The Widowmaker'\n",
    "# \"+\""
   ]
  },
  {
   "cell_type": "markdown",
   "metadata": {
    "colab_type": "text",
    "id": "vS8Ur6ddVp_u"
   },
   "source": [
    "# 19. Какой год стал самым успешным по суммарным кассовым сборам?"
   ]
  },
  {
   "cell_type": "code",
   "execution_count": 110,
   "metadata": {
    "colab": {},
    "colab_type": "code",
    "id": "Dnbt4GdIVp_v"
   },
   "outputs": [
    {
     "data": {
      "text/plain": [
       "2015"
      ]
     },
     "execution_count": 110,
     "metadata": {},
     "output_type": "execute_result"
    }
   ],
   "source": [
    "# группируем датафрейм по годам, суммируем значения,сортируем по столбцу revenue, берем индекс первой строки)\n",
    "data.groupby('release_year').sum().sort_values('revenue', ascending=False).index[0]"
   ]
  },
  {
   "cell_type": "code",
   "execution_count": 111,
   "metadata": {},
   "outputs": [],
   "source": [
    "answers['19'] = '5. 2015'\n",
    "# \"+\""
   ]
  },
  {
   "cell_type": "markdown",
   "metadata": {
    "colab_type": "text",
    "id": "JAzJh4QAVp_z"
   },
   "source": [
    "# 20. Какой самый прибыльный год для студии Warner Bros?"
   ]
  },
  {
   "cell_type": "code",
   "execution_count": 112,
   "metadata": {
    "colab": {},
    "colab_type": "code",
    "id": "wgVu02DEVp_0"
   },
   "outputs": [
    {
     "data": {
      "text/html": [
       "<div>\n",
       "<style scoped>\n",
       "    .dataframe tbody tr th:only-of-type {\n",
       "        vertical-align: middle;\n",
       "    }\n",
       "\n",
       "    .dataframe tbody tr th {\n",
       "        vertical-align: top;\n",
       "    }\n",
       "\n",
       "    .dataframe thead th {\n",
       "        text-align: right;\n",
       "    }\n",
       "</style>\n",
       "<table border=\"1\" class=\"dataframe\">\n",
       "  <thead>\n",
       "    <tr style=\"text-align: right;\">\n",
       "      <th></th>\n",
       "      <th>budget</th>\n",
       "      <th>revenue</th>\n",
       "      <th>runtime</th>\n",
       "      <th>vote_average</th>\n",
       "      <th>profit</th>\n",
       "      <th>release_month</th>\n",
       "      <th>title_len</th>\n",
       "      <th>overview_len</th>\n",
       "    </tr>\n",
       "    <tr>\n",
       "      <th>release_year</th>\n",
       "      <th></th>\n",
       "      <th></th>\n",
       "      <th></th>\n",
       "      <th></th>\n",
       "      <th></th>\n",
       "      <th></th>\n",
       "      <th></th>\n",
       "      <th></th>\n",
       "    </tr>\n",
       "  </thead>\n",
       "  <tbody>\n",
       "    <tr>\n",
       "      <th>2014</th>\n",
       "      <td>947600000</td>\n",
       "      <td>3243064519</td>\n",
       "      <td>1576</td>\n",
       "      <td>88.9</td>\n",
       "      <td>2295464519</td>\n",
       "      <td>89</td>\n",
       "      <td>176</td>\n",
       "      <td>670</td>\n",
       "    </tr>\n",
       "    <tr>\n",
       "      <th>2007</th>\n",
       "      <td>982000000</td>\n",
       "      <td>3183675217</td>\n",
       "      <td>1721</td>\n",
       "      <td>95.4</td>\n",
       "      <td>2201675217</td>\n",
       "      <td>114</td>\n",
       "      <td>273</td>\n",
       "      <td>817</td>\n",
       "    </tr>\n",
       "    <tr>\n",
       "      <th>2008</th>\n",
       "      <td>916000000</td>\n",
       "      <td>3050595031</td>\n",
       "      <td>1366</td>\n",
       "      <td>72.0</td>\n",
       "      <td>2134595031</td>\n",
       "      <td>81</td>\n",
       "      <td>149</td>\n",
       "      <td>514</td>\n",
       "    </tr>\n",
       "    <tr>\n",
       "      <th>2010</th>\n",
       "      <td>1034000000</td>\n",
       "      <td>3008712985</td>\n",
       "      <td>1421</td>\n",
       "      <td>79.6</td>\n",
       "      <td>1974712985</td>\n",
       "      <td>92</td>\n",
       "      <td>201</td>\n",
       "      <td>875</td>\n",
       "    </tr>\n",
       "    <tr>\n",
       "      <th>2011</th>\n",
       "      <td>974000000</td>\n",
       "      <td>2845393682</td>\n",
       "      <td>1248</td>\n",
       "      <td>68.3</td>\n",
       "      <td>1871393682</td>\n",
       "      <td>78</td>\n",
       "      <td>220</td>\n",
       "      <td>554</td>\n",
       "    </tr>\n",
       "    <tr>\n",
       "      <th>2003</th>\n",
       "      <td>890000000</td>\n",
       "      <td>2745493377</td>\n",
       "      <td>1085</td>\n",
       "      <td>56.7</td>\n",
       "      <td>1855493377</td>\n",
       "      <td>81</td>\n",
       "      <td>178</td>\n",
       "      <td>595</td>\n",
       "    </tr>\n",
       "    <tr>\n",
       "      <th>2009</th>\n",
       "      <td>915500000</td>\n",
       "      <td>2737954136</td>\n",
       "      <td>1305</td>\n",
       "      <td>67.9</td>\n",
       "      <td>1822454136</td>\n",
       "      <td>78</td>\n",
       "      <td>158</td>\n",
       "      <td>562</td>\n",
       "    </tr>\n",
       "    <tr>\n",
       "      <th>2013</th>\n",
       "      <td>963500000</td>\n",
       "      <td>2599953400</td>\n",
       "      <td>1100</td>\n",
       "      <td>59.9</td>\n",
       "      <td>1636453400</td>\n",
       "      <td>47</td>\n",
       "      <td>114</td>\n",
       "      <td>711</td>\n",
       "    </tr>\n",
       "    <tr>\n",
       "      <th>2004</th>\n",
       "      <td>1100000000</td>\n",
       "      <td>2731933725</td>\n",
       "      <td>1624</td>\n",
       "      <td>78.7</td>\n",
       "      <td>1631933725</td>\n",
       "      <td>91</td>\n",
       "      <td>194</td>\n",
       "      <td>760</td>\n",
       "    </tr>\n",
       "    <tr>\n",
       "      <th>2005</th>\n",
       "      <td>861000000</td>\n",
       "      <td>2412980298</td>\n",
       "      <td>1193</td>\n",
       "      <td>63.0</td>\n",
       "      <td>1551980298</td>\n",
       "      <td>78</td>\n",
       "      <td>170</td>\n",
       "      <td>581</td>\n",
       "    </tr>\n",
       "    <tr>\n",
       "      <th>2001</th>\n",
       "      <td>923000000</td>\n",
       "      <td>2266545668</td>\n",
       "      <td>1571</td>\n",
       "      <td>83.6</td>\n",
       "      <td>1343545668</td>\n",
       "      <td>97</td>\n",
       "      <td>222</td>\n",
       "      <td>768</td>\n",
       "    </tr>\n",
       "    <tr>\n",
       "      <th>2012</th>\n",
       "      <td>611500000</td>\n",
       "      <td>1869520056</td>\n",
       "      <td>579</td>\n",
       "      <td>30.0</td>\n",
       "      <td>1258020056</td>\n",
       "      <td>33</td>\n",
       "      <td>70</td>\n",
       "      <td>274</td>\n",
       "    </tr>\n",
       "    <tr>\n",
       "      <th>2002</th>\n",
       "      <td>680000000</td>\n",
       "      <td>1702709901</td>\n",
       "      <td>1281</td>\n",
       "      <td>70.6</td>\n",
       "      <td>1022709901</td>\n",
       "      <td>69</td>\n",
       "      <td>189</td>\n",
       "      <td>525</td>\n",
       "    </tr>\n",
       "    <tr>\n",
       "      <th>2015</th>\n",
       "      <td>820800003</td>\n",
       "      <td>1691168351</td>\n",
       "      <td>1358</td>\n",
       "      <td>75.9</td>\n",
       "      <td>870368348</td>\n",
       "      <td>82</td>\n",
       "      <td>137</td>\n",
       "      <td>601</td>\n",
       "    </tr>\n",
       "    <tr>\n",
       "      <th>2006</th>\n",
       "      <td>901000000</td>\n",
       "      <td>1521170743</td>\n",
       "      <td>1504</td>\n",
       "      <td>81.0</td>\n",
       "      <td>620170743</td>\n",
       "      <td>115</td>\n",
       "      <td>178</td>\n",
       "      <td>567</td>\n",
       "    </tr>\n",
       "    <tr>\n",
       "      <th>2000</th>\n",
       "      <td>572900000</td>\n",
       "      <td>1025531386</td>\n",
       "      <td>1333</td>\n",
       "      <td>68.0</td>\n",
       "      <td>452631386</td>\n",
       "      <td>81</td>\n",
       "      <td>162</td>\n",
       "      <td>546</td>\n",
       "    </tr>\n",
       "  </tbody>\n",
       "</table>\n",
       "</div>"
      ],
      "text/plain": [
       "                  budget     revenue  runtime  vote_average      profit  \\\n",
       "release_year                                                              \n",
       "2014           947600000  3243064519     1576          88.9  2295464519   \n",
       "2007           982000000  3183675217     1721          95.4  2201675217   \n",
       "2008           916000000  3050595031     1366          72.0  2134595031   \n",
       "2010          1034000000  3008712985     1421          79.6  1974712985   \n",
       "2011           974000000  2845393682     1248          68.3  1871393682   \n",
       "2003           890000000  2745493377     1085          56.7  1855493377   \n",
       "2009           915500000  2737954136     1305          67.9  1822454136   \n",
       "2013           963500000  2599953400     1100          59.9  1636453400   \n",
       "2004          1100000000  2731933725     1624          78.7  1631933725   \n",
       "2005           861000000  2412980298     1193          63.0  1551980298   \n",
       "2001           923000000  2266545668     1571          83.6  1343545668   \n",
       "2012           611500000  1869520056      579          30.0  1258020056   \n",
       "2002           680000000  1702709901     1281          70.6  1022709901   \n",
       "2015           820800003  1691168351     1358          75.9   870368348   \n",
       "2006           901000000  1521170743     1504          81.0   620170743   \n",
       "2000           572900000  1025531386     1333          68.0   452631386   \n",
       "\n",
       "              release_month  title_len  overview_len  \n",
       "release_year                                          \n",
       "2014                     89        176           670  \n",
       "2007                    114        273           817  \n",
       "2008                     81        149           514  \n",
       "2010                     92        201           875  \n",
       "2011                     78        220           554  \n",
       "2003                     81        178           595  \n",
       "2009                     78        158           562  \n",
       "2013                     47        114           711  \n",
       "2004                     91        194           760  \n",
       "2005                     78        170           581  \n",
       "2001                     97        222           768  \n",
       "2012                     33         70           274  \n",
       "2002                     69        189           525  \n",
       "2015                     82        137           601  \n",
       "2006                    115        178           567  \n",
       "2000                     81        162           546  "
      ]
     },
     "execution_count": 112,
     "metadata": {},
     "output_type": "execute_result"
    }
   ],
   "source": [
    "# Вариант 1\n",
    "# отосртировываем строки, которые содержат в стобце production_companies название Warner Bros, \n",
    "# группируем по году релиза, суммируем, сортируем по значению столбец profit \n",
    "data[data.production_companies.str.contains('Warner Bros', na=False)].groupby('release_year').sum().sort_values('profit', ascending=False)"
   ]
  },
  {
   "cell_type": "code",
   "execution_count": 113,
   "metadata": {},
   "outputs": [
    {
     "data": {
      "text/plain": [
       "2014"
      ]
     },
     "execution_count": 113,
     "metadata": {},
     "output_type": "execute_result"
    }
   ],
   "source": [
    "# Вариант 2 (дает ошибку, т.к. задваивает значение прибыли для случая, когда название компании встречается дважды в одной и той же строке \"Warner Bros.|Warner Bros. Interactive Entertainment|Rob Thomas Productions\")\n",
    "# Группируем по году и компании, суммируем значение, индекс превращаем в стобец\n",
    "data_companies_explode = data.explode('production_companies_split').groupby(by = ['release_year', 'production_companies_split']).sum().reset_index()\n",
    "# фильтруем строки, содержащие 'Warner Bros', суммируем значения по убыванию, берем первый индекс \n",
    "data_companies_explode[data_companies_explode.production_companies_split.str.contains('Warner Bros')].groupby('release_year').sum().sort_values('profit', ascending=False).index[0]\n"
   ]
  },
  {
   "cell_type": "code",
   "execution_count": 114,
   "metadata": {},
   "outputs": [
    {
     "data": {
      "text/html": [
       "<div>\n",
       "<style scoped>\n",
       "    .dataframe tbody tr th:only-of-type {\n",
       "        vertical-align: middle;\n",
       "    }\n",
       "\n",
       "    .dataframe tbody tr th {\n",
       "        vertical-align: top;\n",
       "    }\n",
       "\n",
       "    .dataframe thead th {\n",
       "        text-align: right;\n",
       "    }\n",
       "</style>\n",
       "<table border=\"1\" class=\"dataframe\">\n",
       "  <thead>\n",
       "    <tr style=\"text-align: right;\">\n",
       "      <th></th>\n",
       "      <th>budget</th>\n",
       "      <th>revenue</th>\n",
       "      <th>runtime</th>\n",
       "      <th>vote_average</th>\n",
       "      <th>profit</th>\n",
       "      <th>release_month</th>\n",
       "      <th>title_len</th>\n",
       "      <th>overview_len</th>\n",
       "    </tr>\n",
       "    <tr>\n",
       "      <th>release_year</th>\n",
       "      <th></th>\n",
       "      <th></th>\n",
       "      <th></th>\n",
       "      <th></th>\n",
       "      <th></th>\n",
       "      <th></th>\n",
       "      <th></th>\n",
       "      <th></th>\n",
       "    </tr>\n",
       "  </thead>\n",
       "  <tbody>\n",
       "    <tr>\n",
       "      <th>2007</th>\n",
       "      <td>947000000</td>\n",
       "      <td>3114367993</td>\n",
       "      <td>1630</td>\n",
       "      <td>90.3</td>\n",
       "      <td>2167367993</td>\n",
       "      <td>107</td>\n",
       "      <td>259</td>\n",
       "      <td>768</td>\n",
       "    </tr>\n",
       "    <tr>\n",
       "      <th>2008</th>\n",
       "      <td>916000000</td>\n",
       "      <td>3050595031</td>\n",
       "      <td>1366</td>\n",
       "      <td>72.0</td>\n",
       "      <td>2134595031</td>\n",
       "      <td>81</td>\n",
       "      <td>149</td>\n",
       "      <td>514</td>\n",
       "    </tr>\n",
       "    <tr>\n",
       "      <th>2014</th>\n",
       "      <td>887600000</td>\n",
       "      <td>2773903827</td>\n",
       "      <td>1476</td>\n",
       "      <td>81.4</td>\n",
       "      <td>1886303827</td>\n",
       "      <td>87</td>\n",
       "      <td>162</td>\n",
       "      <td>642</td>\n",
       "    </tr>\n",
       "    <tr>\n",
       "      <th>2011</th>\n",
       "      <td>974000000</td>\n",
       "      <td>2845393682</td>\n",
       "      <td>1248</td>\n",
       "      <td>68.3</td>\n",
       "      <td>1871393682</td>\n",
       "      <td>78</td>\n",
       "      <td>220</td>\n",
       "      <td>554</td>\n",
       "    </tr>\n",
       "    <tr>\n",
       "      <th>2003</th>\n",
       "      <td>890000000</td>\n",
       "      <td>2745493377</td>\n",
       "      <td>1085</td>\n",
       "      <td>56.7</td>\n",
       "      <td>1855493377</td>\n",
       "      <td>81</td>\n",
       "      <td>178</td>\n",
       "      <td>595</td>\n",
       "    </tr>\n",
       "    <tr>\n",
       "      <th>2010</th>\n",
       "      <td>954000000</td>\n",
       "      <td>2807128844</td>\n",
       "      <td>1341</td>\n",
       "      <td>74.5</td>\n",
       "      <td>1853128844</td>\n",
       "      <td>80</td>\n",
       "      <td>192</td>\n",
       "      <td>779</td>\n",
       "    </tr>\n",
       "    <tr>\n",
       "      <th>2009</th>\n",
       "      <td>875500000</td>\n",
       "      <td>2708981628</td>\n",
       "      <td>1216</td>\n",
       "      <td>63.1</td>\n",
       "      <td>1833481628</td>\n",
       "      <td>70</td>\n",
       "      <td>152</td>\n",
       "      <td>529</td>\n",
       "    </tr>\n",
       "    <tr>\n",
       "      <th>2004</th>\n",
       "      <td>1050000000</td>\n",
       "      <td>2725125175</td>\n",
       "      <td>1536</td>\n",
       "      <td>73.8</td>\n",
       "      <td>1675125175</td>\n",
       "      <td>90</td>\n",
       "      <td>180</td>\n",
       "      <td>740</td>\n",
       "    </tr>\n",
       "    <tr>\n",
       "      <th>2013</th>\n",
       "      <td>963500000</td>\n",
       "      <td>2599953400</td>\n",
       "      <td>1100</td>\n",
       "      <td>59.9</td>\n",
       "      <td>1636453400</td>\n",
       "      <td>47</td>\n",
       "      <td>114</td>\n",
       "      <td>711</td>\n",
       "    </tr>\n",
       "    <tr>\n",
       "      <th>2005</th>\n",
       "      <td>861000000</td>\n",
       "      <td>2412980298</td>\n",
       "      <td>1193</td>\n",
       "      <td>63.0</td>\n",
       "      <td>1551980298</td>\n",
       "      <td>78</td>\n",
       "      <td>170</td>\n",
       "      <td>581</td>\n",
       "    </tr>\n",
       "    <tr>\n",
       "      <th>2001</th>\n",
       "      <td>778000000</td>\n",
       "      <td>2206174853</td>\n",
       "      <td>1270</td>\n",
       "      <td>66.3</td>\n",
       "      <td>1428174853</td>\n",
       "      <td>75</td>\n",
       "      <td>187</td>\n",
       "      <td>587</td>\n",
       "    </tr>\n",
       "    <tr>\n",
       "      <th>2012</th>\n",
       "      <td>611500000</td>\n",
       "      <td>1869520056</td>\n",
       "      <td>579</td>\n",
       "      <td>30.0</td>\n",
       "      <td>1258020056</td>\n",
       "      <td>33</td>\n",
       "      <td>70</td>\n",
       "      <td>274</td>\n",
       "    </tr>\n",
       "    <tr>\n",
       "      <th>2002</th>\n",
       "      <td>515000000</td>\n",
       "      <td>1587248589</td>\n",
       "      <td>841</td>\n",
       "      <td>46.5</td>\n",
       "      <td>1072248589</td>\n",
       "      <td>38</td>\n",
       "      <td>137</td>\n",
       "      <td>328</td>\n",
       "    </tr>\n",
       "    <tr>\n",
       "      <th>2015</th>\n",
       "      <td>820800003</td>\n",
       "      <td>1691168351</td>\n",
       "      <td>1358</td>\n",
       "      <td>75.9</td>\n",
       "      <td>870368348</td>\n",
       "      <td>82</td>\n",
       "      <td>137</td>\n",
       "      <td>601</td>\n",
       "    </tr>\n",
       "    <tr>\n",
       "      <th>2006</th>\n",
       "      <td>851000000</td>\n",
       "      <td>1465989614</td>\n",
       "      <td>1416</td>\n",
       "      <td>75.5</td>\n",
       "      <td>614989614</td>\n",
       "      <td>108</td>\n",
       "      <td>165</td>\n",
       "      <td>508</td>\n",
       "    </tr>\n",
       "    <tr>\n",
       "      <th>2000</th>\n",
       "      <td>543900000</td>\n",
       "      <td>1015205068</td>\n",
       "      <td>1138</td>\n",
       "      <td>57.5</td>\n",
       "      <td>471305068</td>\n",
       "      <td>70</td>\n",
       "      <td>144</td>\n",
       "      <td>454</td>\n",
       "    </tr>\n",
       "  </tbody>\n",
       "</table>\n",
       "</div>"
      ],
      "text/plain": [
       "                  budget     revenue  runtime  vote_average      profit  \\\n",
       "release_year                                                              \n",
       "2007           947000000  3114367993     1630          90.3  2167367993   \n",
       "2008           916000000  3050595031     1366          72.0  2134595031   \n",
       "2014           887600000  2773903827     1476          81.4  1886303827   \n",
       "2011           974000000  2845393682     1248          68.3  1871393682   \n",
       "2003           890000000  2745493377     1085          56.7  1855493377   \n",
       "2010           954000000  2807128844     1341          74.5  1853128844   \n",
       "2009           875500000  2708981628     1216          63.1  1833481628   \n",
       "2004          1050000000  2725125175     1536          73.8  1675125175   \n",
       "2013           963500000  2599953400     1100          59.9  1636453400   \n",
       "2005           861000000  2412980298     1193          63.0  1551980298   \n",
       "2001           778000000  2206174853     1270          66.3  1428174853   \n",
       "2012           611500000  1869520056      579          30.0  1258020056   \n",
       "2002           515000000  1587248589      841          46.5  1072248589   \n",
       "2015           820800003  1691168351     1358          75.9   870368348   \n",
       "2006           851000000  1465989614     1416          75.5   614989614   \n",
       "2000           543900000  1015205068     1138          57.5   471305068   \n",
       "\n",
       "              release_month  title_len  overview_len  \n",
       "release_year                                          \n",
       "2007                    107        259           768  \n",
       "2008                     81        149           514  \n",
       "2014                     87        162           642  \n",
       "2011                     78        220           554  \n",
       "2003                     81        178           595  \n",
       "2010                     80        192           779  \n",
       "2009                     70        152           529  \n",
       "2004                     90        180           740  \n",
       "2013                     47        114           711  \n",
       "2005                     78        170           581  \n",
       "2001                     75        187           587  \n",
       "2012                     33         70           274  \n",
       "2002                     38        137           328  \n",
       "2015                     82        137           601  \n",
       "2006                    108        165           508  \n",
       "2000                     70        144           454  "
      ]
     },
     "execution_count": 114,
     "metadata": {},
     "output_type": "execute_result"
    }
   ],
   "source": [
    "# Вариант не для ответа. Если нужно четкое соответствие компании Warner Bros. и исключить другие компании студии.\n",
    "# код аналогичен предыдущему, но отбор при строгом соответствии 'Warner Bros.'\n",
    "data_companies_explode = data.explode('production_companies_split').groupby(by = ['production_companies_split', 'release_year']).sum().reset_index()\n",
    "data_companies_explode[data_companies_explode.production_companies_split == 'Warner Bros.'].groupby('release_year').sum().sort_values('profit', ascending=False)"
   ]
  },
  {
   "cell_type": "code",
   "execution_count": 115,
   "metadata": {},
   "outputs": [],
   "source": [
    "answers['20'] = '1. 2014'\n",
    "# \"+\""
   ]
  },
  {
   "cell_type": "markdown",
   "metadata": {
    "colab_type": "text",
    "id": "8Im1S2HRVp_4"
   },
   "source": [
    "# 21. В каком месяце за все годы суммарно вышло больше всего фильмов?"
   ]
  },
  {
   "cell_type": "code",
   "execution_count": 116,
   "metadata": {
    "colab": {},
    "colab_type": "code",
    "id": "lev6TH7gVp_4"
   },
   "outputs": [
    {
     "data": {
      "text/plain": [
       "9"
      ]
     },
     "execution_count": 116,
     "metadata": {},
     "output_type": "execute_result"
    }
   ],
   "source": [
    "# считаем сколько раз встречается каждый месяц в фильмах\n",
    "data.release_month.value_counts().index[0]"
   ]
  },
  {
   "cell_type": "code",
   "execution_count": 117,
   "metadata": {},
   "outputs": [],
   "source": [
    "answers['21'] = '4. 9'\n",
    "# \"+\""
   ]
  },
  {
   "cell_type": "markdown",
   "metadata": {
    "colab_type": "text",
    "id": "uAJsZ_NeVp_7"
   },
   "source": [
    "# 22. Сколько суммарно вышло фильмов летом? (за июнь, июль, август)"
   ]
  },
  {
   "cell_type": "code",
   "execution_count": 118,
   "metadata": {},
   "outputs": [
    {
     "data": {
      "text/plain": [
       "450"
      ]
     },
     "execution_count": 118,
     "metadata": {},
     "output_type": "execute_result"
    }
   ],
   "source": [
    "# 1-й способ\n",
    "data[(data.release_month <=8) & (data.release_month >=6)].release_month.count()"
   ]
  },
  {
   "cell_type": "code",
   "execution_count": 119,
   "metadata": {
    "colab": {},
    "colab_type": "code",
    "id": "Aa-hEREoVp_8"
   },
   "outputs": [
    {
     "data": {
      "text/plain": [
       "450"
      ]
     },
     "execution_count": 119,
     "metadata": {},
     "output_type": "execute_result"
    }
   ],
   "source": [
    "# 2-й способ\n",
    "data.query('release_month in [6, 7, 8]').release_month.count()"
   ]
  },
  {
   "cell_type": "code",
   "execution_count": 120,
   "metadata": {},
   "outputs": [],
   "source": [
    "answers['22'] = '2. 450'\n",
    "# \"+\""
   ]
  },
  {
   "cell_type": "markdown",
   "metadata": {
    "colab_type": "text",
    "id": "G94ppOY1VqAA"
   },
   "source": [
    "# 23. Для какого режиссера зима – самое продуктивное время года? "
   ]
  },
  {
   "cell_type": "code",
   "execution_count": 121,
   "metadata": {
    "colab": {},
    "colab_type": "code",
    "id": "RhNTsamuVqAB"
   },
   "outputs": [
    {
     "data": {
      "text/plain": [
       "'Peter Jackson'"
      ]
     },
     "execution_count": 121,
     "metadata": {},
     "output_type": "execute_result"
    }
   ],
   "source": [
    "# сортируем зимние месяцы, группируем по режисеру, считаем количество случаев, сортируем дата фрейм в обратном порядке,\n",
    "# берем перый индекс.\n",
    "data.query('release_month in [12, 1, 2]').groupby('director').count().sort_values(by=['imdb_id'], ascending=False).index[0]"
   ]
  },
  {
   "cell_type": "code",
   "execution_count": 122,
   "metadata": {},
   "outputs": [],
   "source": [
    "answers['23'] = '5. Peter Jackson'\n",
    "# \"+\""
   ]
  },
  {
   "cell_type": "markdown",
   "metadata": {
    "colab_type": "text",
    "id": "RBo0JVjVVqAF"
   },
   "source": [
    "# 24. Какая студия дает самые длинные названия своим фильмам по количеству символов?"
   ]
  },
  {
   "cell_type": "code",
   "execution_count": 123,
   "metadata": {
    "colab": {},
    "colab_type": "code",
    "id": "QRGS8L0iVqAG"
   },
   "outputs": [
    {
     "data": {
      "text/plain": [
       "'Four By Two Productions'"
      ]
     },
     "execution_count": 123,
     "metadata": {},
     "output_type": "execute_result"
    }
   ],
   "source": [
    "# взрываем столбец production_companies_split, группируем по названию компании, усредняя показатель, сортируем по длинне названия фильма\n",
    "data.explode('production_companies_split').groupby('production_companies_split').mean().sort_values(by='title_len', ascending=False).index[0]"
   ]
  },
  {
   "cell_type": "code",
   "execution_count": 124,
   "metadata": {},
   "outputs": [],
   "source": [
    "answers['24'] = '5. Four By Two Productions'\n",
    "# \"+\""
   ]
  },
  {
   "cell_type": "markdown",
   "metadata": {
    "colab_type": "text",
    "id": "9G0hbvR7VqAK"
   },
   "source": [
    "# 25. Описание фильмов какой студии в среднем самые длинные по количеству слов?"
   ]
  },
  {
   "cell_type": "code",
   "execution_count": 125,
   "metadata": {
    "colab": {},
    "colab_type": "code",
    "id": "Ge2GsLNxVqAK"
   },
   "outputs": [
    {
     "data": {
      "text/plain": [
       "'Midnight Picture Show'"
      ]
     },
     "execution_count": 125,
     "metadata": {},
     "output_type": "execute_result"
    }
   ],
   "source": [
    "# взрываем столбец production_companies_split, группируем по названию компании, усредняя показатель, сортируем по длинне описания фильма\n",
    "data.explode('production_companies_split').groupby('production_companies_split').mean().sort_values(by='overview_len', ascending=False).index[0]"
   ]
  },
  {
   "cell_type": "code",
   "execution_count": 126,
   "metadata": {},
   "outputs": [],
   "source": [
    "answers['25'] = '3. Midnight Picture Show'\n",
    "# \"+\""
   ]
  },
  {
   "cell_type": "markdown",
   "metadata": {
    "colab_type": "text",
    "id": "FJ1AFt90VqAP"
   },
   "source": [
    "# 26. Какие фильмы входят в 1 процент лучших по рейтингу? \n",
    "по vote_average"
   ]
  },
  {
   "cell_type": "code",
   "execution_count": 127,
   "metadata": {},
   "outputs": [
    {
     "data": {
      "text/plain": [
       "9                                          Inside Out\n",
       "34                                               Room\n",
       "118                                      Interstellar\n",
       "119                           Guardians of the Galaxy\n",
       "125                                The Imitation Game\n",
       "128                                         Gone Girl\n",
       "138                          The Grand Budapest Hotel\n",
       "370                                         Inception\n",
       "599                                   The Dark Knight\n",
       "872                                       The Pianist\n",
       "1081    The Lord of the Rings: The Return of the King\n",
       "1183                          The Wolf of Wall Street\n",
       "1191                                 12 Years a Slave\n",
       "1800                                          Memento\n",
       "Name: original_title, dtype: object"
      ]
     },
     "execution_count": 127,
     "metadata": {},
     "output_type": "execute_result"
    }
   ],
   "source": [
    "# Способ 1, через квантиль.\n",
    "data[data['vote_average']>data.quantile(0.99, numeric_only=True)['vote_average']]['original_title']"
   ]
  },
  {
   "cell_type": "code",
   "execution_count": 128,
   "metadata": {},
   "outputs": [
    {
     "data": {
      "text/plain": [
       "599                                   The Dark Knight\n",
       "118                                      Interstellar\n",
       "125                                The Imitation Game\n",
       "9                                          Inside Out\n",
       "34                                               Room\n",
       "1183                          The Wolf of Wall Street\n",
       "128                                         Gone Girl\n",
       "1191                                 12 Years a Slave\n",
       "119                           Guardians of the Galaxy\n",
       "1081    The Lord of the Rings: The Return of the King\n",
       "1800                                          Memento\n",
       "370                                         Inception\n",
       "872                                       The Pianist\n",
       "138                          The Grand Budapest Hotel\n",
       "1188                                              Her\n",
       "28                                          Spotlight\n",
       "124                                        Big Hero 6\n",
       "177                            The Fault in Our Stars\n",
       "Name: original_title, dtype: object"
      ]
     },
     "execution_count": 128,
     "metadata": {},
     "output_type": "execute_result"
    }
   ],
   "source": [
    "# Способ 2, сортируем по рейтингу, выводим 1% от общего количества фильмов\n",
    "data.sort_values('vote_average', ascending=False).original_title.head(int(data.count().vote_average/100))"
   ]
  },
  {
   "cell_type": "code",
   "execution_count": 129,
   "metadata": {},
   "outputs": [],
   "source": [
    "answers['26'] = '1. Inside Out, The Dark Knight, 12 Years a Slave'\n",
    "# \"+\""
   ]
  },
  {
   "cell_type": "markdown",
   "metadata": {
    "colab_type": "text",
    "id": "MdXsUXbCVqAV"
   },
   "source": [
    "# 27. Какие актеры чаще всего снимаются в одном фильме вместе?\n"
   ]
  },
  {
   "cell_type": "code",
   "execution_count": 133,
   "metadata": {},
   "outputs": [
    {
     "data": {
      "text/plain": [
       "cast_comb2\n",
       "(Daniel Radcliffe, Rupert Grint)       8\n",
       "(Emma Watson, Rupert Grint)            8\n",
       "(Daniel Radcliffe, Emma Watson)        8\n",
       "(Helena Bonham Carter, Johnny Depp)    6\n",
       "(Ben Stiller, Owen Wilson)             6\n",
       "                                      ..\n",
       "(Jane Fonda, Jennifer Lopez)           1\n",
       "(Jane Alexander, Ty Burrell)           1\n",
       "(Jane Alexander, Robert Downey Jr.)    1\n",
       "(Jane Alexander, Nicole Kidman)        1\n",
       "(50 Cent, Adewale Akinnuoye-Agbaje)    1\n",
       "Name: cast, Length: 17943, dtype: int64"
      ]
     },
     "execution_count": 133,
     "metadata": {},
     "output_type": "execute_result"
    }
   ],
   "source": [
    "# взрываем столбец с парами актеров, группируем по парам актеров, \n",
    "# считаем количество случаев для каждой пары, сортируем по убыванию.\n",
    "data.explode('cast_comb2').groupby('cast_comb2').count().cast.sort_values(ascending=False)"
   ]
  },
  {
   "cell_type": "code",
   "execution_count": 131,
   "metadata": {},
   "outputs": [],
   "source": [
    "answers['27'] = '5. Daniel Radcliffe & Rupert Grint'\n",
    "# \"+\""
   ]
  },
  {
   "cell_type": "markdown",
   "metadata": {
    "colab_type": "text",
    "id": "4ymnxEVoVqAW"
   },
   "source": [
    "ВАРИАНТ 2"
   ]
  },
  {
   "cell_type": "code",
   "execution_count": 187,
   "metadata": {},
   "outputs": [
    {
     "data": {
      "text/html": [
       "<div>\n",
       "<style scoped>\n",
       "    .dataframe tbody tr th:only-of-type {\n",
       "        vertical-align: middle;\n",
       "    }\n",
       "\n",
       "    .dataframe tbody tr th {\n",
       "        vertical-align: top;\n",
       "    }\n",
       "\n",
       "    .dataframe thead th {\n",
       "        text-align: right;\n",
       "    }\n",
       "</style>\n",
       "<table border=\"1\" class=\"dataframe\">\n",
       "  <thead>\n",
       "    <tr style=\"text-align: right;\">\n",
       "      <th></th>\n",
       "      <th>cast_pairs</th>\n",
       "      <th>occurrences</th>\n",
       "    </tr>\n",
       "  </thead>\n",
       "  <tbody>\n",
       "    <tr>\n",
       "      <th>9143</th>\n",
       "      <td>(Emma Watson, Rupert Grint)</td>\n",
       "      <td>8</td>\n",
       "    </tr>\n",
       "    <tr>\n",
       "      <th>7023</th>\n",
       "      <td>(Daniel Radcliffe, Rupert Grint)</td>\n",
       "      <td>8</td>\n",
       "    </tr>\n",
       "    <tr>\n",
       "      <th>7007</th>\n",
       "      <td>(Daniel Radcliffe, Emma Watson)</td>\n",
       "      <td>8</td>\n",
       "    </tr>\n",
       "    <tr>\n",
       "      <th>10754</th>\n",
       "      <td>(Helena Bonham Carter, Johnny Depp)</td>\n",
       "      <td>6</td>\n",
       "    </tr>\n",
       "    <tr>\n",
       "      <th>3074</th>\n",
       "      <td>(Ben Stiller, Owen Wilson)</td>\n",
       "      <td>6</td>\n",
       "    </tr>\n",
       "    <tr>\n",
       "      <th>...</th>\n",
       "      <td>...</td>\n",
       "      <td>...</td>\n",
       "    </tr>\n",
       "    <tr>\n",
       "      <th>6118</th>\n",
       "      <td>(Christopher Walken, Radha Mitchell)</td>\n",
       "      <td>1</td>\n",
       "    </tr>\n",
       "    <tr>\n",
       "      <th>6119</th>\n",
       "      <td>(Christopher Walken, Robin Williams)</td>\n",
       "      <td>1</td>\n",
       "    </tr>\n",
       "    <tr>\n",
       "      <th>6120</th>\n",
       "      <td>(Christopher Walken, Rosario Dawson)</td>\n",
       "      <td>1</td>\n",
       "    </tr>\n",
       "    <tr>\n",
       "      <th>6121</th>\n",
       "      <td>(Christopher Walken, Sam Rockwell)</td>\n",
       "      <td>1</td>\n",
       "    </tr>\n",
       "    <tr>\n",
       "      <th>17942</th>\n",
       "      <td>(Zachary Quinto, Zoe Saldana)</td>\n",
       "      <td>1</td>\n",
       "    </tr>\n",
       "  </tbody>\n",
       "</table>\n",
       "<p>17943 rows × 2 columns</p>\n",
       "</div>"
      ],
      "text/plain": [
       "                                 cast_pairs  occurrences\n",
       "9143            (Emma Watson, Rupert Grint)            8\n",
       "7023       (Daniel Radcliffe, Rupert Grint)            8\n",
       "7007        (Daniel Radcliffe, Emma Watson)            8\n",
       "10754   (Helena Bonham Carter, Johnny Depp)            6\n",
       "3074             (Ben Stiller, Owen Wilson)            6\n",
       "...                                     ...          ...\n",
       "6118   (Christopher Walken, Radha Mitchell)            1\n",
       "6119   (Christopher Walken, Robin Williams)            1\n",
       "6120   (Christopher Walken, Rosario Dawson)            1\n",
       "6121     (Christopher Walken, Sam Rockwell)            1\n",
       "17942         (Zachary Quinto, Zoe Saldana)            1\n",
       "\n",
       "[17943 rows x 2 columns]"
      ]
     },
     "execution_count": 187,
     "metadata": {},
     "output_type": "execute_result"
    }
   ],
   "source": [
    "# !!!!исполнение около 2 мин\n",
    "# Применим, если столбец комбинаций создан без предварительной сортировки актеров по алфавиту \n",
    "# и возможны разные пары с теми же сочетаниями актеров\n",
    "\n",
    "# создаем список с уникальными парами актеров из столбца 'cast_comb2'\n",
    "cast_pairs = data.explode('cast_comb2').groupby('cast_comb2').count().reset_index().cast_comb2\n",
    "\n",
    "# создаем список списков, в котором списки второго уровня типа [пара, количество фильмов с данной парой]\n",
    "data_list = []\n",
    "for pair in cast_pairs:\n",
    "    quantity = data[(data.cast.str.contains(pair[0])) & (data.cast.str.contains(pair[1]))].cast.count()\n",
    "    data_list.append([pair, quantity])\n",
    "\n",
    "# создаем датафрейм на основе предыдущего списка, в котором пары сортируем по количеству фильмов, в которых она участвовала\n",
    "cast_pairs_df = pd.DataFrame(data_list, columns=['cast_pairs', 'occurrences']).sort_values(by='occurrences', ascending=False)\n",
    "cast_pairs_df"
   ]
  },
  {
   "cell_type": "markdown",
   "metadata": {},
   "source": [
    "ВАРИАНТ 3"
   ]
  },
  {
   "cell_type": "code",
   "execution_count": 188,
   "metadata": {},
   "outputs": [
    {
     "data": {
      "text/html": [
       "<div>\n",
       "<style scoped>\n",
       "    .dataframe tbody tr th:only-of-type {\n",
       "        vertical-align: middle;\n",
       "    }\n",
       "\n",
       "    .dataframe tbody tr th {\n",
       "        vertical-align: top;\n",
       "    }\n",
       "\n",
       "    .dataframe thead th {\n",
       "        text-align: right;\n",
       "    }\n",
       "</style>\n",
       "<table border=\"1\" class=\"dataframe\">\n",
       "  <thead>\n",
       "    <tr style=\"text-align: right;\">\n",
       "      <th></th>\n",
       "      <th>cast_pairs</th>\n",
       "      <th>occurrences</th>\n",
       "    </tr>\n",
       "  </thead>\n",
       "  <tbody>\n",
       "    <tr>\n",
       "      <th>2395</th>\n",
       "      <td>(Daniel Radcliffe, Emma Watson)</td>\n",
       "      <td>8</td>\n",
       "    </tr>\n",
       "    <tr>\n",
       "      <th>2400</th>\n",
       "      <td>(Emma Watson, Rupert Grint)</td>\n",
       "      <td>8</td>\n",
       "    </tr>\n",
       "    <tr>\n",
       "      <th>2397</th>\n",
       "      <td>(Daniel Radcliffe, Rupert Grint)</td>\n",
       "      <td>8</td>\n",
       "    </tr>\n",
       "    <tr>\n",
       "      <th>3686</th>\n",
       "      <td>(Helena Bonham Carter, Johnny Depp)</td>\n",
       "      <td>6</td>\n",
       "    </tr>\n",
       "    <tr>\n",
       "      <th>1290</th>\n",
       "      <td>(Ben Stiller, Owen Wilson)</td>\n",
       "      <td>6</td>\n",
       "    </tr>\n",
       "    <tr>\n",
       "      <th>...</th>\n",
       "      <td>...</td>\n",
       "      <td>...</td>\n",
       "    </tr>\n",
       "    <tr>\n",
       "      <th>6250</th>\n",
       "      <td>(Bryan Brown, Hugh Jackman)</td>\n",
       "      <td>1</td>\n",
       "    </tr>\n",
       "    <tr>\n",
       "      <th>6251</th>\n",
       "      <td>(Bryan Brown, Nicole Kidman)</td>\n",
       "      <td>1</td>\n",
       "    </tr>\n",
       "    <tr>\n",
       "      <th>6252</th>\n",
       "      <td>(David Wenham, Essie Davis)</td>\n",
       "      <td>1</td>\n",
       "    </tr>\n",
       "    <tr>\n",
       "      <th>6254</th>\n",
       "      <td>(David Wenham, Nicole Kidman)</td>\n",
       "      <td>1</td>\n",
       "    </tr>\n",
       "    <tr>\n",
       "      <th>17942</th>\n",
       "      <td>(Susan Ward, Tess Harper)</td>\n",
       "      <td>1</td>\n",
       "    </tr>\n",
       "  </tbody>\n",
       "</table>\n",
       "<p>17943 rows × 2 columns</p>\n",
       "</div>"
      ],
      "text/plain": [
       "                                cast_pairs  occurrences\n",
       "2395       (Daniel Radcliffe, Emma Watson)            8\n",
       "2400           (Emma Watson, Rupert Grint)            8\n",
       "2397      (Daniel Radcliffe, Rupert Grint)            8\n",
       "3686   (Helena Bonham Carter, Johnny Depp)            6\n",
       "1290            (Ben Stiller, Owen Wilson)            6\n",
       "...                                    ...          ...\n",
       "6250           (Bryan Brown, Hugh Jackman)            1\n",
       "6251          (Bryan Brown, Nicole Kidman)            1\n",
       "6252           (David Wenham, Essie Davis)            1\n",
       "6254         (David Wenham, Nicole Kidman)            1\n",
       "17942            (Susan Ward, Tess Harper)            1\n",
       "\n",
       "[17943 rows x 2 columns]"
      ]
     },
     "execution_count": 188,
     "metadata": {},
     "output_type": "execute_result"
    }
   ],
   "source": [
    "# !!!!исполнение около 2 мин\n",
    "# Применим, если нужно обойтись без создания дополнительного столбца\n",
    "\n",
    "# создаем список с уникальными парами актеров из столбца 'cast'\n",
    "cast_pairs = []\n",
    "for x in data.cast:\n",
    "    # актеров предварительно сортируем по алфавита, чтоб уменьшить количество пар\n",
    "    for y in list(combinations(sorted(x.split('|')), 2)):\n",
    "        if y not in cast_pairs:\n",
    "            cast_pairs.append(y)\n",
    "\n",
    "# создаем список списков, в котором списки второго уровня типа [пара, количество фильмов с данной парой]            \n",
    "data_list = []\n",
    "for pair in cast_pairs:\n",
    "    quantity = data[(data.cast.str.contains(pair[0])) & (data.cast.str.contains(pair[1]))].cast.count()\n",
    "    if quantity > 0:\n",
    "        data_list.append([pair, quantity])\n",
    "        \n",
    "# создаем датафрейм на основе предыдущего списка, в котором пары сортируем по количеству фильмов, в которых она участвовала\n",
    "cast_pairs_df = pd.DataFrame(data_list, columns=['cast_pairs', 'occurrences']).sort_values(by='occurrences', ascending=False)\n",
    "cast_pairs_df"
   ]
  },
  {
   "cell_type": "markdown",
   "metadata": {
    "colab_type": "text",
    "id": "U0nONFnGVqAX"
   },
   "source": [
    "# Submission"
   ]
  },
  {
   "cell_type": "code",
   "execution_count": 142,
   "metadata": {
    "colab": {},
    "colab_type": "code",
    "id": "IfcaRO9-VqAX",
    "outputId": "0f132912-32bb-4196-c98c-abfbc4ad5a5f"
   },
   "outputs": [
    {
     "data": {
      "text/plain": [
       "{'1': '5. Pirates of the Caribbean: On Stranger Tides (tt1298650)',\n",
       " '2': '2. Gods and Generals (tt0279111)',\n",
       " '3': '3. Winnie the Pooh (tt1449283)',\n",
       " '4': '2. 110',\n",
       " '5': '1. 107',\n",
       " '6': '5. Avatar (tt0499549)',\n",
       " '7': '5. The Lone Ranger (tt1210819)',\n",
       " '8': '1. 1478',\n",
       " '9': '4. The Dark Knight (tt0468569)',\n",
       " '10': '5. The Lone Ranger (tt1210819)',\n",
       " '11': '3. Drama',\n",
       " '12': '1. Drama',\n",
       " '13': '5. Peter Jackson',\n",
       " '14': '3. Robert Rodriguez',\n",
       " '15': '3. Chris Hemsworth',\n",
       " '16': '3. Matt Damon',\n",
       " '17': '2. Action',\n",
       " '18': '1. K-19: The Widowmaker',\n",
       " '19': '5. 2015',\n",
       " '20': '1. 2014',\n",
       " '21': '4. 9',\n",
       " '22': '2. 450',\n",
       " '23': '5. Peter Jackson',\n",
       " '24': '5. Four By Two Productions',\n",
       " '25': '3. Midnight Picture Show',\n",
       " '26': '1. Inside Out, The Dark Knight, 12 Years a Slave',\n",
       " '27': '5. Daniel Radcliffe & Rupert Grint'}"
      ]
     },
     "execution_count": 142,
     "metadata": {},
     "output_type": "execute_result"
    }
   ],
   "source": [
    "# в конце можно посмотреть свои ответы к каждому вопросу\n",
    "answers"
   ]
  },
  {
   "cell_type": "code",
   "execution_count": 189,
   "metadata": {
    "colab": {},
    "colab_type": "code",
    "id": "SiRmHPl8VqAd"
   },
   "outputs": [
    {
     "data": {
      "text/plain": [
       "27"
      ]
     },
     "execution_count": 189,
     "metadata": {},
     "output_type": "execute_result"
    }
   ],
   "source": [
    "# и убедиться что ни чего не пропустил)\n",
    "len(answers)"
   ]
  },
  {
   "cell_type": "code",
   "execution_count": null,
   "metadata": {
    "colab": {},
    "colab_type": "code",
    "id": "uCfuTkRbVqAg"
   },
   "outputs": [],
   "source": []
  }
 ],
 "metadata": {
  "colab": {
   "name": "Copy of [SF-DST] Movies IMBD v4.1 TEMPLATE.ipynb",
   "provenance": []
  },
  "kernelspec": {
   "display_name": "Python 3",
   "language": "python",
   "name": "python3"
  },
  "language_info": {
   "codemirror_mode": {
    "name": "ipython",
    "version": 3
   },
   "file_extension": ".py",
   "mimetype": "text/x-python",
   "name": "python",
   "nbconvert_exporter": "python",
   "pygments_lexer": "ipython3",
   "version": "3.8.3"
  }
 },
 "nbformat": 4,
 "nbformat_minor": 1
}
