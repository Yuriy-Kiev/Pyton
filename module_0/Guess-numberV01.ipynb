{
 "cells": [
  {
   "cell_type": "code",
   "execution_count": 6,
   "metadata": {},
   "outputs": [
    {
     "name": "stdout",
     "output_type": "stream",
     "text": [
      "Ваш алгоритм угадывает число в среднем за 5 попыток\n"
     ]
    },
    {
     "data": {
      "text/plain": [
       "5"
      ]
     },
     "execution_count": 6,
     "metadata": {},
     "output_type": "execute_result"
    }
   ],
   "source": [
    "import numpy as np\n",
    "\n",
    "def game_core_v3(number):\n",
    "    '''Guessing the number by half division method'''\n",
    "    count = 0 \n",
    "    lower_border = 1\n",
    "    upper_border = 100\n",
    "    while True:\n",
    "        count += 1\n",
    "        predict = (lower_border+upper_border)//2\n",
    "        if number == predict: \n",
    "            return(count)\n",
    "        elif number > predict:\n",
    "            lower_border = predict+1\n",
    "        else:\n",
    "            upper_border = predict-1\n",
    "        \n",
    "            \n",
    "def score_game(game_core):\n",
    "    '''Runing the game 1000 times to see how quickly the game guesses the number'''\n",
    "    count_ls = []\n",
    "    np.random.seed(1)\n",
    "    random_array = np.random.randint(1,101, size=(1000)) #array of numbers to check the game_core\n",
    "    for number in random_array:\n",
    "        count_ls.append(game_core(number)) # list of guessing attempst for each number\n",
    "    score = int(np.mean(count_ls))\n",
    "    print(f\"Ваш алгоритм угадывает число в среднем за {score} попыток\")\n",
    "    return(score)\n",
    "\n",
    "\n",
    "score_game(game_core_v3)"
   ]
  },
  {
   "cell_type": "code",
   "execution_count": null,
   "metadata": {},
   "outputs": [],
   "source": []
  }
 ],
 "metadata": {
  "kernelspec": {
   "display_name": "Python 3",
   "language": "python",
   "name": "python3"
  },
  "language_info": {
   "codemirror_mode": {
    "name": "ipython",
    "version": 3
   },
   "file_extension": ".py",
   "mimetype": "text/x-python",
   "name": "python",
   "nbconvert_exporter": "python",
   "pygments_lexer": "ipython3",
   "version": "3.8.3"
  }
 },
 "nbformat": 4,
 "nbformat_minor": 4
}
