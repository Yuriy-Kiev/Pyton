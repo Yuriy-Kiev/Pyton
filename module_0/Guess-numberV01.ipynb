{
 "cells": [
  {
   "cell_type": "code",
   "execution_count": 2,
   "metadata": {},
   "outputs": [
    {
     "name": "stdout",
     "output_type": "stream",
     "text": [
      "Ваш алгоритм угадывает число в среднем за 101 попыток\n"
     ]
    },
    {
     "data": {
      "text/plain": [
       "101"
      ]
     },
     "execution_count": 2,
     "metadata": {},
     "output_type": "execute_result"
    }
   ],
   "source": [
    "import numpy as np\n",
    "def game_core_v3(number):\n",
    "    '''Угадываем число методом половинного деления'''\n",
    "    count = 0\n",
    "    lower_border = 1\n",
    "    upper_border = 100\n",
    "    while True:\n",
    "        count+=1\n",
    "        predict = round((lower_border+upper_border)/2)\n",
    "        if number == predict: \n",
    "            return(count) # выход из цикла, если угадали\n",
    "        elif number > predict:\n",
    "            x = predict\n",
    "        else:\n",
    "            y = predict\n",
    "            \n",
    "        \n",
    "        \n",
    "def score_game(game_core):\n",
    "    '''Запускаем игру 1000 раз, чтобы узнать, как быстро игра угадывает число'''\n",
    "    count_ls = []\n",
    "    np.random.seed(1)  # фиксируем RANDOM SEED, чтобы ваш эксперимент был воспроизводим!\n",
    "    random_array = np.random.randint(1,101, size=(1000))\n",
    "    for number in random_array:\n",
    "        count_ls.append(game_core(number))\n",
    "    score = int(np.mean(count_ls))\n",
    "    print(f\"Ваш алгоритм угадывает число в среднем за {score} попыток\")\n",
    "    return(score)\n",
    "score_game(game_core_v3)"
   ]
  },
  {
   "cell_type": "code",
   "execution_count": 4,
   "metadata": {},
   "outputs": [
    {
     "name": "stdout",
     "output_type": "stream",
     "text": [
      "77\n",
      "50 100\n",
      "75 100\n",
      "75 88\n",
      "75 82\n",
      "75 78\n",
      "76 78\n",
      "7\n"
     ]
    }
   ],
   "source": [
    "number=int(input())\n",
    "count = 0\n",
    "lower_border = 1\n",
    "upper_border = 100\n",
    "while True:\n",
    "    count+=1\n",
    "    predict = round((lower_border+upper_border)/2)\n",
    "    if number == predict: \n",
    "        print(count) # выход из цикла, если угадали\n",
    "        break\n",
    "    elif number > predict:\n",
    "        lower_border = predict\n",
    "        print(lower_border,upper_border)\n",
    "    else:\n",
    "        upper_border = predict\n",
    "        print(lower_border,upper_border)"
   ]
  },
  {
   "cell_type": "code",
   "execution_count": null,
   "metadata": {},
   "outputs": [],
   "source": []
  }
 ],
 "metadata": {
  "kernelspec": {
   "display_name": "Python 3",
   "language": "python",
   "name": "python3"
  },
  "language_info": {
   "codemirror_mode": {
    "name": "ipython",
    "version": 3
   },
   "file_extension": ".py",
   "mimetype": "text/x-python",
   "name": "python",
   "nbconvert_exporter": "python",
   "pygments_lexer": "ipython3",
   "version": "3.8.3"
  }
 },
 "nbformat": 4,
 "nbformat_minor": 4
}
